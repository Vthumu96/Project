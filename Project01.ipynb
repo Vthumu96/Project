{
 "cells": [
  {
   "cell_type": "code",
   "execution_count": 9,
   "id": "ed0f97e1",
   "metadata": {},
   "outputs": [],
   "source": [
    "import pandas as pd\n",
    "import numpy as np\n",
    "import matplotlib.pyplot as plt\n",
    "import seaborn as sns\n"
   ]
  },
  {
   "cell_type": "code",
   "execution_count": 10,
   "id": "40443719",
   "metadata": {},
   "outputs": [],
   "source": [
    "Data = pd.read_excel(\"C:/Users/ADMIN/Downloads/Movie_DB.xlsx\")"
   ]
  },
  {
   "cell_type": "code",
   "execution_count": 11,
   "id": "78faf1db",
   "metadata": {},
   "outputs": [
    {
     "data": {
      "text/html": [
       "<div>\n",
       "<style scoped>\n",
       "    .dataframe tbody tr th:only-of-type {\n",
       "        vertical-align: middle;\n",
       "    }\n",
       "\n",
       "    .dataframe tbody tr th {\n",
       "        vertical-align: top;\n",
       "    }\n",
       "\n",
       "    .dataframe thead th {\n",
       "        text-align: right;\n",
       "    }\n",
       "</style>\n",
       "<table border=\"1\" class=\"dataframe\">\n",
       "  <thead>\n",
       "    <tr style=\"text-align: right;\">\n",
       "      <th></th>\n",
       "      <th>Title</th>\n",
       "      <th>Year</th>\n",
       "      <th>Genre</th>\n",
       "      <th>Director</th>\n",
       "      <th>Stars</th>\n",
       "      <th>Rating</th>\n",
       "      <th>Budget</th>\n",
       "      <th>Worldwide Gross</th>\n",
       "      <th>Profit</th>\n",
       "    </tr>\n",
       "  </thead>\n",
       "  <tbody>\n",
       "    <tr>\n",
       "      <th>0</th>\n",
       "      <td>Spider-Man: No Way Home</td>\n",
       "      <td>2021</td>\n",
       "      <td>Action</td>\n",
       "      <td>Jon Watts</td>\n",
       "      <td>Tom Holland</td>\n",
       "      <td>8.2</td>\n",
       "      <td>200000000.0</td>\n",
       "      <td>1.921847e+09</td>\n",
       "      <td>1.721847e+09</td>\n",
       "    </tr>\n",
       "    <tr>\n",
       "      <th>1</th>\n",
       "      <td>The Battle at Lake Changjin</td>\n",
       "      <td>2021</td>\n",
       "      <td>Action</td>\n",
       "      <td>Hark Tsui</td>\n",
       "      <td>Jing Wu</td>\n",
       "      <td>5.5</td>\n",
       "      <td>200000000.0</td>\n",
       "      <td>9.025485e+08</td>\n",
       "      <td>7.025485e+08</td>\n",
       "    </tr>\n",
       "    <tr>\n",
       "      <th>2</th>\n",
       "      <td>Hi, Mom</td>\n",
       "      <td>2021</td>\n",
       "      <td>Comedy</td>\n",
       "      <td>Ling Jia</td>\n",
       "      <td>Ling Jia</td>\n",
       "      <td>7.0</td>\n",
       "      <td>300000000.0</td>\n",
       "      <td>8.220098e+08</td>\n",
       "      <td>5.220098e+08</td>\n",
       "    </tr>\n",
       "    <tr>\n",
       "      <th>3</th>\n",
       "      <td>No Time to Die</td>\n",
       "      <td>2021</td>\n",
       "      <td>Action</td>\n",
       "      <td>Joji Fukunaga</td>\n",
       "      <td>Daniel Craig</td>\n",
       "      <td>7.3</td>\n",
       "      <td>250000000.0</td>\n",
       "      <td>7.741530e+08</td>\n",
       "      <td>5.241530e+08</td>\n",
       "    </tr>\n",
       "    <tr>\n",
       "      <th>4</th>\n",
       "      <td>F9: The Fast Saga</td>\n",
       "      <td>2021</td>\n",
       "      <td>Action</td>\n",
       "      <td>Justin Lin</td>\n",
       "      <td>Vin Diesel</td>\n",
       "      <td>5.2</td>\n",
       "      <td>200000000.0</td>\n",
       "      <td>7.262295e+08</td>\n",
       "      <td>5.262295e+08</td>\n",
       "    </tr>\n",
       "    <tr>\n",
       "      <th>...</th>\n",
       "      <td>...</td>\n",
       "      <td>...</td>\n",
       "      <td>...</td>\n",
       "      <td>...</td>\n",
       "      <td>...</td>\n",
       "      <td>...</td>\n",
       "      <td>...</td>\n",
       "      <td>...</td>\n",
       "      <td>...</td>\n",
       "    </tr>\n",
       "    <tr>\n",
       "      <th>137</th>\n",
       "      <td>Spider-Man: Across the Spider-Verse</td>\n",
       "      <td>2023</td>\n",
       "      <td>Animation</td>\n",
       "      <td>Joaquim Dos Santos</td>\n",
       "      <td>Shameik Moore</td>\n",
       "      <td>8.8</td>\n",
       "      <td>150000000.0</td>\n",
       "      <td>6.841813e+08</td>\n",
       "      <td>5.341813e+08</td>\n",
       "    </tr>\n",
       "    <tr>\n",
       "      <th>138</th>\n",
       "      <td>Fast X</td>\n",
       "      <td>2023</td>\n",
       "      <td>Drama</td>\n",
       "      <td>Louis Leterrier</td>\n",
       "      <td>Vin Diesel</td>\n",
       "      <td>5.8</td>\n",
       "      <td>340000000.0</td>\n",
       "      <td>7.047097e+08</td>\n",
       "      <td>3.647097e+08</td>\n",
       "    </tr>\n",
       "    <tr>\n",
       "      <th>139</th>\n",
       "      <td>Guardians of the Galaxy Vol. 3</td>\n",
       "      <td>2023</td>\n",
       "      <td>Action</td>\n",
       "      <td>James Gunn</td>\n",
       "      <td>Chris Pratt</td>\n",
       "      <td>8.0</td>\n",
       "      <td>250000000.0</td>\n",
       "      <td>8.454320e+08</td>\n",
       "      <td>5.954320e+08</td>\n",
       "    </tr>\n",
       "    <tr>\n",
       "      <th>140</th>\n",
       "      <td>Barbie</td>\n",
       "      <td>2023</td>\n",
       "      <td>Drama</td>\n",
       "      <td>Greta Gerwig</td>\n",
       "      <td>Margot Robbie</td>\n",
       "      <td>7.4</td>\n",
       "      <td>100000000.0</td>\n",
       "      <td>1.076809e+09</td>\n",
       "      <td>9.768090e+08</td>\n",
       "    </tr>\n",
       "    <tr>\n",
       "      <th>141</th>\n",
       "      <td>The Super Mario Bros. Movie</td>\n",
       "      <td>2023</td>\n",
       "      <td>Animation</td>\n",
       "      <td>Aaron Horvath</td>\n",
       "      <td>Chris Pratt</td>\n",
       "      <td>7.1</td>\n",
       "      <td>100000000.0</td>\n",
       "      <td>1.356198e+09</td>\n",
       "      <td>1.256198e+09</td>\n",
       "    </tr>\n",
       "  </tbody>\n",
       "</table>\n",
       "<p>142 rows × 9 columns</p>\n",
       "</div>"
      ],
      "text/plain": [
       "                                   Title  Year      Genre            Director  \\\n",
       "0                Spider-Man: No Way Home  2021    Action            Jon Watts   \n",
       "1            The Battle at Lake Changjin  2021     Action           Hark Tsui   \n",
       "2                                Hi, Mom  2021     Comedy            Ling Jia   \n",
       "3                         No Time to Die  2021     Action       Joji Fukunaga   \n",
       "4                      F9: The Fast Saga  2021     Action          Justin Lin   \n",
       "..                                   ...   ...        ...                 ...   \n",
       "137  Spider-Man: Across the Spider-Verse  2023  Animation  Joaquim Dos Santos   \n",
       "138                               Fast X  2023      Drama     Louis Leterrier   \n",
       "139       Guardians of the Galaxy Vol. 3  2023     Action          James Gunn   \n",
       "140                               Barbie  2023      Drama        Greta Gerwig   \n",
       "141          The Super Mario Bros. Movie  2023  Animation       Aaron Horvath   \n",
       "\n",
       "             Stars  Rating       Budget  Worldwide Gross        Profit  \n",
       "0      Tom Holland     8.2  200000000.0     1.921847e+09  1.721847e+09  \n",
       "1          Jing Wu     5.5  200000000.0     9.025485e+08  7.025485e+08  \n",
       "2         Ling Jia     7.0  300000000.0     8.220098e+08  5.220098e+08  \n",
       "3     Daniel Craig     7.3  250000000.0     7.741530e+08  5.241530e+08  \n",
       "4       Vin Diesel     5.2  200000000.0     7.262295e+08  5.262295e+08  \n",
       "..             ...     ...          ...              ...           ...  \n",
       "137  Shameik Moore     8.8  150000000.0     6.841813e+08  5.341813e+08  \n",
       "138     Vin Diesel     5.8  340000000.0     7.047097e+08  3.647097e+08  \n",
       "139    Chris Pratt     8.0  250000000.0     8.454320e+08  5.954320e+08  \n",
       "140  Margot Robbie     7.4  100000000.0     1.076809e+09  9.768090e+08  \n",
       "141    Chris Pratt     7.1  100000000.0     1.356198e+09  1.256198e+09  \n",
       "\n",
       "[142 rows x 9 columns]"
      ]
     },
     "execution_count": 11,
     "metadata": {},
     "output_type": "execute_result"
    }
   ],
   "source": [
    "Data"
   ]
  },
  {
   "cell_type": "code",
   "execution_count": 20,
   "id": "1beeb6f4",
   "metadata": {},
   "outputs": [
    {
     "data": {
      "text/plain": [
       "(130, 9)"
      ]
     },
     "execution_count": 20,
     "metadata": {},
     "output_type": "execute_result"
    }
   ],
   "source": [
    "Data.shape"
   ]
  },
  {
   "cell_type": "code",
   "execution_count": 26,
   "id": "0e99bf39",
   "metadata": {},
   "outputs": [
    {
     "name": "stdout",
     "output_type": "stream",
     "text": [
      "Number of rows 130\n",
      "Number of columns 9\n"
     ]
    }
   ],
   "source": [
    "print(\"Number of rows\",Data.shape[0])\n",
    "print(\"Number of columns\",Data.shape[1])"
   ]
  },
  {
   "cell_type": "code",
   "execution_count": 27,
   "id": "6babe62e",
   "metadata": {},
   "outputs": [
    {
     "name": "stdout",
     "output_type": "stream",
     "text": [
      "<class 'pandas.core.frame.DataFrame'>\n",
      "Int64Index: 130 entries, 0 to 141\n",
      "Data columns (total 9 columns):\n",
      " #   Column           Non-Null Count  Dtype  \n",
      "---  ------           --------------  -----  \n",
      " 0   Title            130 non-null    object \n",
      " 1   Year             130 non-null    int64  \n",
      " 2   Genre            130 non-null    object \n",
      " 3   Director         130 non-null    object \n",
      " 4   Stars            130 non-null    object \n",
      " 5   Rating           130 non-null    float64\n",
      " 6   Budget           130 non-null    float64\n",
      " 7   Worldwide Gross  130 non-null    float64\n",
      " 8   Profit           130 non-null    float64\n",
      "dtypes: float64(4), int64(1), object(4)\n",
      "memory usage: 10.2+ KB\n"
     ]
    }
   ],
   "source": [
    "Data.info()"
   ]
  },
  {
   "cell_type": "code",
   "execution_count": 24,
   "id": "89316b0e",
   "metadata": {},
   "outputs": [
    {
     "data": {
      "text/html": [
       "<div>\n",
       "<style scoped>\n",
       "    .dataframe tbody tr th:only-of-type {\n",
       "        vertical-align: middle;\n",
       "    }\n",
       "\n",
       "    .dataframe tbody tr th {\n",
       "        vertical-align: top;\n",
       "    }\n",
       "\n",
       "    .dataframe thead th {\n",
       "        text-align: right;\n",
       "    }\n",
       "</style>\n",
       "<table border=\"1\" class=\"dataframe\">\n",
       "  <thead>\n",
       "    <tr style=\"text-align: right;\">\n",
       "      <th></th>\n",
       "      <th>Title</th>\n",
       "      <th>Year</th>\n",
       "      <th>Genre</th>\n",
       "      <th>Director</th>\n",
       "      <th>Stars</th>\n",
       "      <th>Rating</th>\n",
       "      <th>Budget</th>\n",
       "      <th>Worldwide Gross</th>\n",
       "      <th>Profit</th>\n",
       "    </tr>\n",
       "  </thead>\n",
       "  <tbody>\n",
       "    <tr>\n",
       "      <th>0</th>\n",
       "      <td>Spider-Man: No Way Home</td>\n",
       "      <td>2021</td>\n",
       "      <td>Action</td>\n",
       "      <td>Jon Watts</td>\n",
       "      <td>Tom Holland</td>\n",
       "      <td>8.2</td>\n",
       "      <td>200000000.0</td>\n",
       "      <td>1.921847e+09</td>\n",
       "      <td>1.721847e+09</td>\n",
       "    </tr>\n",
       "    <tr>\n",
       "      <th>1</th>\n",
       "      <td>The Battle at Lake Changjin</td>\n",
       "      <td>2021</td>\n",
       "      <td>Action</td>\n",
       "      <td>Hark Tsui</td>\n",
       "      <td>Jing Wu</td>\n",
       "      <td>5.5</td>\n",
       "      <td>200000000.0</td>\n",
       "      <td>9.025485e+08</td>\n",
       "      <td>7.025485e+08</td>\n",
       "    </tr>\n",
       "    <tr>\n",
       "      <th>2</th>\n",
       "      <td>Hi, Mom</td>\n",
       "      <td>2021</td>\n",
       "      <td>Comedy</td>\n",
       "      <td>Ling Jia</td>\n",
       "      <td>Ling Jia</td>\n",
       "      <td>7.0</td>\n",
       "      <td>300000000.0</td>\n",
       "      <td>8.220098e+08</td>\n",
       "      <td>5.220098e+08</td>\n",
       "    </tr>\n",
       "    <tr>\n",
       "      <th>3</th>\n",
       "      <td>No Time to Die</td>\n",
       "      <td>2021</td>\n",
       "      <td>Action</td>\n",
       "      <td>Joji Fukunaga</td>\n",
       "      <td>Daniel Craig</td>\n",
       "      <td>7.3</td>\n",
       "      <td>250000000.0</td>\n",
       "      <td>7.741530e+08</td>\n",
       "      <td>5.241530e+08</td>\n",
       "    </tr>\n",
       "    <tr>\n",
       "      <th>4</th>\n",
       "      <td>F9: The Fast Saga</td>\n",
       "      <td>2021</td>\n",
       "      <td>Action</td>\n",
       "      <td>Justin Lin</td>\n",
       "      <td>Vin Diesel</td>\n",
       "      <td>5.2</td>\n",
       "      <td>200000000.0</td>\n",
       "      <td>7.262295e+08</td>\n",
       "      <td>5.262295e+08</td>\n",
       "    </tr>\n",
       "    <tr>\n",
       "      <th>5</th>\n",
       "      <td>Detective Chinatown 3</td>\n",
       "      <td>2021</td>\n",
       "      <td>Action</td>\n",
       "      <td>Sicheng Chen</td>\n",
       "      <td>Baoqiang Wang</td>\n",
       "      <td>5.6</td>\n",
       "      <td>116630000.0</td>\n",
       "      <td>6.862576e+08</td>\n",
       "      <td>5.696276e+08</td>\n",
       "    </tr>\n",
       "    <tr>\n",
       "      <th>6</th>\n",
       "      <td>Venom: Let There Be Carnage</td>\n",
       "      <td>2021</td>\n",
       "      <td>Action</td>\n",
       "      <td>Andy Serkis</td>\n",
       "      <td>Tom Hardy</td>\n",
       "      <td>5.9</td>\n",
       "      <td>110000000.0</td>\n",
       "      <td>5.068636e+08</td>\n",
       "      <td>3.968636e+08</td>\n",
       "    </tr>\n",
       "    <tr>\n",
       "      <th>7</th>\n",
       "      <td>Godzilla vs. Kong</td>\n",
       "      <td>2021</td>\n",
       "      <td>Action</td>\n",
       "      <td>Adam Wingard</td>\n",
       "      <td>Alexander Skarsgård</td>\n",
       "      <td>6.3</td>\n",
       "      <td>200000000.0</td>\n",
       "      <td>4.701161e+08</td>\n",
       "      <td>2.701161e+08</td>\n",
       "    </tr>\n",
       "    <tr>\n",
       "      <th>8</th>\n",
       "      <td>Shang-Chi and the Legend of the Ten Rings</td>\n",
       "      <td>2021</td>\n",
       "      <td>Action</td>\n",
       "      <td>Daniel Cretton</td>\n",
       "      <td>Simu Liu</td>\n",
       "      <td>7.4</td>\n",
       "      <td>200000000.0</td>\n",
       "      <td>4.322433e+08</td>\n",
       "      <td>2.322433e+08</td>\n",
       "    </tr>\n",
       "    <tr>\n",
       "      <th>9</th>\n",
       "      <td>Sing 2</td>\n",
       "      <td>2021</td>\n",
       "      <td>Animation</td>\n",
       "      <td>Christophe Lourdelet</td>\n",
       "      <td>Matthew McConaughey</td>\n",
       "      <td>7.4</td>\n",
       "      <td>85000000.0</td>\n",
       "      <td>4.084019e+08</td>\n",
       "      <td>3.234019e+08</td>\n",
       "    </tr>\n",
       "  </tbody>\n",
       "</table>\n",
       "</div>"
      ],
      "text/plain": [
       "                                       Title  Year      Genre  \\\n",
       "0                    Spider-Man: No Way Home  2021    Action    \n",
       "1                The Battle at Lake Changjin  2021     Action   \n",
       "2                                    Hi, Mom  2021     Comedy   \n",
       "3                             No Time to Die  2021     Action   \n",
       "4                          F9: The Fast Saga  2021     Action   \n",
       "5                      Detective Chinatown 3  2021     Action   \n",
       "6                Venom: Let There Be Carnage  2021     Action   \n",
       "7                          Godzilla vs. Kong  2021     Action   \n",
       "8  Shang-Chi and the Legend of the Ten Rings  2021     Action   \n",
       "9                                     Sing 2  2021  Animation   \n",
       "\n",
       "               Director                Stars  Rating       Budget  \\\n",
       "0             Jon Watts          Tom Holland     8.2  200000000.0   \n",
       "1             Hark Tsui              Jing Wu     5.5  200000000.0   \n",
       "2              Ling Jia             Ling Jia     7.0  300000000.0   \n",
       "3         Joji Fukunaga         Daniel Craig     7.3  250000000.0   \n",
       "4            Justin Lin           Vin Diesel     5.2  200000000.0   \n",
       "5          Sicheng Chen        Baoqiang Wang     5.6  116630000.0   \n",
       "6           Andy Serkis            Tom Hardy     5.9  110000000.0   \n",
       "7          Adam Wingard  Alexander Skarsgård     6.3  200000000.0   \n",
       "8        Daniel Cretton             Simu Liu     7.4  200000000.0   \n",
       "9  Christophe Lourdelet  Matthew McConaughey     7.4   85000000.0   \n",
       "\n",
       "   Worldwide Gross        Profit  \n",
       "0     1.921847e+09  1.721847e+09  \n",
       "1     9.025485e+08  7.025485e+08  \n",
       "2     8.220098e+08  5.220098e+08  \n",
       "3     7.741530e+08  5.241530e+08  \n",
       "4     7.262295e+08  5.262295e+08  \n",
       "5     6.862576e+08  5.696276e+08  \n",
       "6     5.068636e+08  3.968636e+08  \n",
       "7     4.701161e+08  2.701161e+08  \n",
       "8     4.322433e+08  2.322433e+08  \n",
       "9     4.084019e+08  3.234019e+08  "
      ]
     },
     "execution_count": 24,
     "metadata": {},
     "output_type": "execute_result"
    }
   ],
   "source": [
    "Data.head(10)"
   ]
  },
  {
   "cell_type": "code",
   "execution_count": 23,
   "id": "d58a4fe2",
   "metadata": {},
   "outputs": [
    {
     "data": {
      "text/html": [
       "<div>\n",
       "<style scoped>\n",
       "    .dataframe tbody tr th:only-of-type {\n",
       "        vertical-align: middle;\n",
       "    }\n",
       "\n",
       "    .dataframe tbody tr th {\n",
       "        vertical-align: top;\n",
       "    }\n",
       "\n",
       "    .dataframe thead th {\n",
       "        text-align: right;\n",
       "    }\n",
       "</style>\n",
       "<table border=\"1\" class=\"dataframe\">\n",
       "  <thead>\n",
       "    <tr style=\"text-align: right;\">\n",
       "      <th></th>\n",
       "      <th>Title</th>\n",
       "      <th>Year</th>\n",
       "      <th>Genre</th>\n",
       "      <th>Director</th>\n",
       "      <th>Stars</th>\n",
       "      <th>Rating</th>\n",
       "      <th>Budget</th>\n",
       "      <th>Worldwide Gross</th>\n",
       "      <th>Profit</th>\n",
       "    </tr>\n",
       "  </thead>\n",
       "  <tbody>\n",
       "    <tr>\n",
       "      <th>132</th>\n",
       "      <td>Ant-Man and the Wasp: Quantumania</td>\n",
       "      <td>2023</td>\n",
       "      <td>Action</td>\n",
       "      <td>Peyton Reed</td>\n",
       "      <td>Paul Rudd</td>\n",
       "      <td>6.1</td>\n",
       "      <td>200000000.0</td>\n",
       "      <td>4.760712e+08</td>\n",
       "      <td>2.760712e+08</td>\n",
       "    </tr>\n",
       "    <tr>\n",
       "      <th>133</th>\n",
       "      <td>Mission: Impossible - Dead Reckoning Part One</td>\n",
       "      <td>2023</td>\n",
       "      <td>Action</td>\n",
       "      <td>Christopher McQuarrie</td>\n",
       "      <td>Tom Cruise</td>\n",
       "      <td>8.0</td>\n",
       "      <td>290000000.0</td>\n",
       "      <td>4.998259e+08</td>\n",
       "      <td>2.098259e+08</td>\n",
       "    </tr>\n",
       "    <tr>\n",
       "      <th>134</th>\n",
       "      <td>Oppenheimer</td>\n",
       "      <td>2023</td>\n",
       "      <td>Drama</td>\n",
       "      <td>Christopher Nolan</td>\n",
       "      <td>Cillian Murphy</td>\n",
       "      <td>8.6</td>\n",
       "      <td>100000000.0</td>\n",
       "      <td>5.777765e+08</td>\n",
       "      <td>4.777765e+08</td>\n",
       "    </tr>\n",
       "    <tr>\n",
       "      <th>135</th>\n",
       "      <td>The Little Mermaid</td>\n",
       "      <td>2023</td>\n",
       "      <td>Drama</td>\n",
       "      <td>Rob Marshall</td>\n",
       "      <td>Halle Bailey</td>\n",
       "      <td>7.2</td>\n",
       "      <td>250000000.0</td>\n",
       "      <td>5.666300e+08</td>\n",
       "      <td>3.166300e+08</td>\n",
       "    </tr>\n",
       "    <tr>\n",
       "      <th>136</th>\n",
       "      <td>The Wandering Earth II</td>\n",
       "      <td>2022</td>\n",
       "      <td>Action</td>\n",
       "      <td>Frant Gwo</td>\n",
       "      <td>Jing Wu</td>\n",
       "      <td>7.0</td>\n",
       "      <td>162140000.0</td>\n",
       "      <td>8.850806e+06</td>\n",
       "      <td>-1.532892e+08</td>\n",
       "    </tr>\n",
       "    <tr>\n",
       "      <th>137</th>\n",
       "      <td>Spider-Man: Across the Spider-Verse</td>\n",
       "      <td>2023</td>\n",
       "      <td>Animation</td>\n",
       "      <td>Joaquim Dos Santos</td>\n",
       "      <td>Shameik Moore</td>\n",
       "      <td>8.8</td>\n",
       "      <td>150000000.0</td>\n",
       "      <td>6.841813e+08</td>\n",
       "      <td>5.341813e+08</td>\n",
       "    </tr>\n",
       "    <tr>\n",
       "      <th>138</th>\n",
       "      <td>Fast X</td>\n",
       "      <td>2023</td>\n",
       "      <td>Drama</td>\n",
       "      <td>Louis Leterrier</td>\n",
       "      <td>Vin Diesel</td>\n",
       "      <td>5.8</td>\n",
       "      <td>340000000.0</td>\n",
       "      <td>7.047097e+08</td>\n",
       "      <td>3.647097e+08</td>\n",
       "    </tr>\n",
       "    <tr>\n",
       "      <th>139</th>\n",
       "      <td>Guardians of the Galaxy Vol. 3</td>\n",
       "      <td>2023</td>\n",
       "      <td>Action</td>\n",
       "      <td>James Gunn</td>\n",
       "      <td>Chris Pratt</td>\n",
       "      <td>8.0</td>\n",
       "      <td>250000000.0</td>\n",
       "      <td>8.454320e+08</td>\n",
       "      <td>5.954320e+08</td>\n",
       "    </tr>\n",
       "    <tr>\n",
       "      <th>140</th>\n",
       "      <td>Barbie</td>\n",
       "      <td>2023</td>\n",
       "      <td>Drama</td>\n",
       "      <td>Greta Gerwig</td>\n",
       "      <td>Margot Robbie</td>\n",
       "      <td>7.4</td>\n",
       "      <td>100000000.0</td>\n",
       "      <td>1.076809e+09</td>\n",
       "      <td>9.768090e+08</td>\n",
       "    </tr>\n",
       "    <tr>\n",
       "      <th>141</th>\n",
       "      <td>The Super Mario Bros. Movie</td>\n",
       "      <td>2023</td>\n",
       "      <td>Animation</td>\n",
       "      <td>Aaron Horvath</td>\n",
       "      <td>Chris Pratt</td>\n",
       "      <td>7.1</td>\n",
       "      <td>100000000.0</td>\n",
       "      <td>1.356198e+09</td>\n",
       "      <td>1.256198e+09</td>\n",
       "    </tr>\n",
       "  </tbody>\n",
       "</table>\n",
       "</div>"
      ],
      "text/plain": [
       "                                             Title  Year      Genre  \\\n",
       "132              Ant-Man and the Wasp: Quantumania  2023     Action   \n",
       "133  Mission: Impossible - Dead Reckoning Part One  2023     Action   \n",
       "134                                    Oppenheimer  2023      Drama   \n",
       "135                             The Little Mermaid  2023      Drama   \n",
       "136                         The Wandering Earth II  2022     Action   \n",
       "137            Spider-Man: Across the Spider-Verse  2023  Animation   \n",
       "138                                         Fast X  2023      Drama   \n",
       "139                 Guardians of the Galaxy Vol. 3  2023     Action   \n",
       "140                                         Barbie  2023      Drama   \n",
       "141                    The Super Mario Bros. Movie  2023  Animation   \n",
       "\n",
       "                  Director           Stars  Rating       Budget  \\\n",
       "132            Peyton Reed       Paul Rudd     6.1  200000000.0   \n",
       "133  Christopher McQuarrie      Tom Cruise     8.0  290000000.0   \n",
       "134      Christopher Nolan  Cillian Murphy     8.6  100000000.0   \n",
       "135           Rob Marshall    Halle Bailey     7.2  250000000.0   \n",
       "136              Frant Gwo         Jing Wu     7.0  162140000.0   \n",
       "137     Joaquim Dos Santos   Shameik Moore     8.8  150000000.0   \n",
       "138        Louis Leterrier      Vin Diesel     5.8  340000000.0   \n",
       "139             James Gunn     Chris Pratt     8.0  250000000.0   \n",
       "140           Greta Gerwig   Margot Robbie     7.4  100000000.0   \n",
       "141          Aaron Horvath     Chris Pratt     7.1  100000000.0   \n",
       "\n",
       "     Worldwide Gross        Profit  \n",
       "132     4.760712e+08  2.760712e+08  \n",
       "133     4.998259e+08  2.098259e+08  \n",
       "134     5.777765e+08  4.777765e+08  \n",
       "135     5.666300e+08  3.166300e+08  \n",
       "136     8.850806e+06 -1.532892e+08  \n",
       "137     6.841813e+08  5.341813e+08  \n",
       "138     7.047097e+08  3.647097e+08  \n",
       "139     8.454320e+08  5.954320e+08  \n",
       "140     1.076809e+09  9.768090e+08  \n",
       "141     1.356198e+09  1.256198e+09  "
      ]
     },
     "execution_count": 23,
     "metadata": {},
     "output_type": "execute_result"
    }
   ],
   "source": [
    "Data.tail(10)"
   ]
  },
  {
   "cell_type": "code",
   "execution_count": 29,
   "id": "6b385dbb",
   "metadata": {},
   "outputs": [
    {
     "name": "stdout",
     "output_type": "stream",
     "text": [
      "Any Missing Values? False\n"
     ]
    }
   ],
   "source": [
    "print(\"Any Missing Values?\",Data.isnull().values.any())"
   ]
  },
  {
   "cell_type": "code",
   "execution_count": 30,
   "id": "6d6eb6be",
   "metadata": {},
   "outputs": [
    {
     "data": {
      "text/plain": [
       "Title              0\n",
       "Year               0\n",
       "Genre              0\n",
       "Director           0\n",
       "Stars              0\n",
       "Rating             0\n",
       "Budget             0\n",
       "Worldwide Gross    0\n",
       "Profit             0\n",
       "dtype: int64"
      ]
     },
     "execution_count": 30,
     "metadata": {},
     "output_type": "execute_result"
    }
   ],
   "source": [
    "Data.isnull().sum()"
   ]
  },
  {
   "cell_type": "code",
   "execution_count": 31,
   "id": "b5e26eff",
   "metadata": {},
   "outputs": [
    {
     "data": {
      "text/plain": [
       "<Axes: >"
      ]
     },
     "execution_count": 31,
     "metadata": {},
     "output_type": "execute_result"
    },
    {
     "data": {
      "image/png": "[encoded data removed]",
      "text/plain": [
       "<Figure size 640x480 with 2 Axes>"
      ]
     },
     "metadata": {},
     "output_type": "display_data"
    }
   ],
   "source": [
    "sns.heatmap(Data.isnull())"
   ]
  },
  {
   "cell_type": "code",
   "execution_count": 37,
   "id": "bfc46ff6",
   "metadata": {},
   "outputs": [
    {
     "name": "stdout",
     "output_type": "stream",
     "text": [
      "Are there any duplicate values? False\n"
     ]
    }
   ],
   "source": [
    "dup_Data = Data.duplicated().any()\n",
    "print(\"Are there any duplicate values?\",dup_Data)"
   ]
  },
  {
   "cell_type": "code",
   "execution_count": 13,
   "id": "e4c0f261",
   "metadata": {},
   "outputs": [
    {
     "data": {
      "text/plain": [
       "Title               object\n",
       "Year                 int64\n",
       "Genre               object\n",
       "Director            object\n",
       "Stars               object\n",
       "Rating             float64\n",
       "Budget             float64\n",
       "Worldwide Gross    float64\n",
       "Profit             float64\n",
       "dtype: object"
      ]
     },
     "execution_count": 13,
     "metadata": {},
     "output_type": "execute_result"
    }
   ],
   "source": [
    "Data.dtypes"
   ]
  },
  {
   "cell_type": "code",
   "execution_count": 15,
   "id": "0a86cfa9",
   "metadata": {},
   "outputs": [
    {
     "data": {
      "text/plain": [
       "Title              0\n",
       "Year               0\n",
       "Genre              0\n",
       "Director           0\n",
       "Stars              0\n",
       "Rating             0\n",
       "Budget             0\n",
       "Worldwide Gross    0\n",
       "Profit             0\n",
       "dtype: int64"
      ]
     },
     "execution_count": 15,
     "metadata": {},
     "output_type": "execute_result"
    }
   ],
   "source": [
    "Data.isnull().sum()"
   ]
  },
  {
   "cell_type": "code",
   "execution_count": 18,
   "id": "3c6d9a49",
   "metadata": {},
   "outputs": [
    {
     "data": {
      "text/html": [
       "<div>\n",
       "<style scoped>\n",
       "    .dataframe tbody tr th:only-of-type {\n",
       "        vertical-align: middle;\n",
       "    }\n",
       "\n",
       "    .dataframe tbody tr th {\n",
       "        vertical-align: top;\n",
       "    }\n",
       "\n",
       "    .dataframe thead th {\n",
       "        text-align: right;\n",
       "    }\n",
       "</style>\n",
       "<table border=\"1\" class=\"dataframe\">\n",
       "  <thead>\n",
       "    <tr style=\"text-align: right;\">\n",
       "      <th></th>\n",
       "      <th>Title</th>\n",
       "      <th>Year</th>\n",
       "      <th>Genre</th>\n",
       "      <th>Director</th>\n",
       "      <th>Stars</th>\n",
       "      <th>Rating</th>\n",
       "      <th>Budget</th>\n",
       "      <th>Worldwide Gross</th>\n",
       "      <th>Profit</th>\n",
       "    </tr>\n",
       "  </thead>\n",
       "  <tbody>\n",
       "    <tr>\n",
       "      <th>count</th>\n",
       "      <td>130</td>\n",
       "      <td>130.000000</td>\n",
       "      <td>130</td>\n",
       "      <td>130</td>\n",
       "      <td>130</td>\n",
       "      <td>130.000000</td>\n",
       "      <td>1.300000e+02</td>\n",
       "      <td>1.300000e+02</td>\n",
       "      <td>1.300000e+02</td>\n",
       "    </tr>\n",
       "    <tr>\n",
       "      <th>unique</th>\n",
       "      <td>130</td>\n",
       "      <td>NaN</td>\n",
       "      <td>10</td>\n",
       "      <td>128</td>\n",
       "      <td>118</td>\n",
       "      <td>NaN</td>\n",
       "      <td>NaN</td>\n",
       "      <td>NaN</td>\n",
       "      <td>NaN</td>\n",
       "    </tr>\n",
       "    <tr>\n",
       "      <th>top</th>\n",
       "      <td>Spider-Man: No Way Home</td>\n",
       "      <td>NaN</td>\n",
       "      <td>Action</td>\n",
       "      <td>Guy Ritchie</td>\n",
       "      <td>Chris Pratt</td>\n",
       "      <td>NaN</td>\n",
       "      <td>NaN</td>\n",
       "      <td>NaN</td>\n",
       "      <td>NaN</td>\n",
       "    </tr>\n",
       "    <tr>\n",
       "      <th>freq</th>\n",
       "      <td>1</td>\n",
       "      <td>NaN</td>\n",
       "      <td>45</td>\n",
       "      <td>2</td>\n",
       "      <td>3</td>\n",
       "      <td>NaN</td>\n",
       "      <td>NaN</td>\n",
       "      <td>NaN</td>\n",
       "      <td>NaN</td>\n",
       "    </tr>\n",
       "    <tr>\n",
       "      <th>mean</th>\n",
       "      <td>NaN</td>\n",
       "      <td>2022.153846</td>\n",
       "      <td>NaN</td>\n",
       "      <td>NaN</td>\n",
       "      <td>NaN</td>\n",
       "      <td>6.686154</td>\n",
       "      <td>1.579567e+08</td>\n",
       "      <td>2.818561e+08</td>\n",
       "      <td>1.238994e+08</td>\n",
       "    </tr>\n",
       "    <tr>\n",
       "      <th>std</th>\n",
       "      <td>NaN</td>\n",
       "      <td>0.709422</td>\n",
       "      <td>NaN</td>\n",
       "      <td>NaN</td>\n",
       "      <td>NaN</td>\n",
       "      <td>0.806635</td>\n",
       "      <td>4.725456e+08</td>\n",
       "      <td>3.763792e+08</td>\n",
       "      <td>5.892564e+08</td>\n",
       "    </tr>\n",
       "    <tr>\n",
       "      <th>min</th>\n",
       "      <td>NaN</td>\n",
       "      <td>2020.000000</td>\n",
       "      <td>NaN</td>\n",
       "      <td>NaN</td>\n",
       "      <td>NaN</td>\n",
       "      <td>4.600000</td>\n",
       "      <td>1.000000e+06</td>\n",
       "      <td>4.551566e+06</td>\n",
       "      <td>-4.049835e+09</td>\n",
       "    </tr>\n",
       "    <tr>\n",
       "      <th>25%</th>\n",
       "      <td>NaN</td>\n",
       "      <td>2022.000000</td>\n",
       "      <td>NaN</td>\n",
       "      <td>NaN</td>\n",
       "      <td>NaN</td>\n",
       "      <td>6.100000</td>\n",
       "      <td>3.050000e+07</td>\n",
       "      <td>4.603896e+07</td>\n",
       "      <td>6.207929e+06</td>\n",
       "    </tr>\n",
       "    <tr>\n",
       "      <th>50%</th>\n",
       "      <td>NaN</td>\n",
       "      <td>2022.000000</td>\n",
       "      <td>NaN</td>\n",
       "      <td>NaN</td>\n",
       "      <td>NaN</td>\n",
       "      <td>6.650000</td>\n",
       "      <td>7.000000e+07</td>\n",
       "      <td>1.455435e+08</td>\n",
       "      <td>6.526242e+07</td>\n",
       "    </tr>\n",
       "    <tr>\n",
       "      <th>75%</th>\n",
       "      <td>NaN</td>\n",
       "      <td>2023.000000</td>\n",
       "      <td>NaN</td>\n",
       "      <td>NaN</td>\n",
       "      <td>NaN</td>\n",
       "      <td>7.200000</td>\n",
       "      <td>1.591050e+08</td>\n",
       "      <td>4.045824e+08</td>\n",
       "      <td>2.111014e+08</td>\n",
       "    </tr>\n",
       "    <tr>\n",
       "      <th>max</th>\n",
       "      <td>NaN</td>\n",
       "      <td>2023.000000</td>\n",
       "      <td>NaN</td>\n",
       "      <td>NaN</td>\n",
       "      <td>NaN</td>\n",
       "      <td>8.800000</td>\n",
       "      <td>4.100000e+09</td>\n",
       "      <td>2.320250e+09</td>\n",
       "      <td>1.970250e+09</td>\n",
       "    </tr>\n",
       "  </tbody>\n",
       "</table>\n",
       "</div>"
      ],
      "text/plain": [
       "                          Title         Year   Genre     Director  \\\n",
       "count                       130   130.000000     130          130   \n",
       "unique                      130          NaN      10          128   \n",
       "top     Spider-Man: No Way Home          NaN  Action  Guy Ritchie   \n",
       "freq                          1          NaN      45            2   \n",
       "mean                        NaN  2022.153846     NaN          NaN   \n",
       "std                         NaN     0.709422     NaN          NaN   \n",
       "min                         NaN  2020.000000     NaN          NaN   \n",
       "25%                         NaN  2022.000000     NaN          NaN   \n",
       "50%                         NaN  2022.000000     NaN          NaN   \n",
       "75%                         NaN  2023.000000     NaN          NaN   \n",
       "max                         NaN  2023.000000     NaN          NaN   \n",
       "\n",
       "              Stars      Rating        Budget  Worldwide Gross        Profit  \n",
       "count           130  130.000000  1.300000e+02     1.300000e+02  1.300000e+02  \n",
       "unique          118         NaN           NaN              NaN           NaN  \n",
       "top     Chris Pratt         NaN           NaN              NaN           NaN  \n",
       "freq              3         NaN           NaN              NaN           NaN  \n",
       "mean            NaN    6.686154  1.579567e+08     2.818561e+08  1.238994e+08  \n",
       "std             NaN    0.806635  4.725456e+08     3.763792e+08  5.892564e+08  \n",
       "min             NaN    4.600000  1.000000e+06     4.551566e+06 -4.049835e+09  \n",
       "25%             NaN    6.100000  3.050000e+07     4.603896e+07  6.207929e+06  \n",
       "50%             NaN    6.650000  7.000000e+07     1.455435e+08  6.526242e+07  \n",
       "75%             NaN    7.200000  1.591050e+08     4.045824e+08  2.111014e+08  \n",
       "max             NaN    8.800000  4.100000e+09     2.320250e+09  1.970250e+09  "
      ]
     },
     "execution_count": 18,
     "metadata": {},
     "output_type": "execute_result"
    }
   ],
   "source": [
    "Data.describe(include= 'all')"
   ]
  },
  {
   "cell_type": "code",
   "execution_count": 39,
   "id": "ea4a3175",
   "metadata": {},
   "outputs": [
    {
     "data": {
      "text/plain": [
       "Index(['Title', 'Year', 'Genre', 'Director', 'Stars', 'Rating', 'Budget',\n",
       "       'Worldwide Gross', 'Profit'],\n",
       "      dtype='object')"
      ]
     },
     "execution_count": 39,
     "metadata": {},
     "output_type": "execute_result"
    }
   ],
   "source": [
    "Data.columns"
   ]
  },
  {
   "cell_type": "code",
   "execution_count": 44,
   "id": "1670d26b",
   "metadata": {},
   "outputs": [
    {
     "data": {
      "text/plain": [
       "0                            Spider-Man: No Way Home\n",
       "2                                            Hi, Mom\n",
       "3                                     No Time to Die\n",
       "8          Shang-Chi and the Legend of the Ten Rings\n",
       "9                                             Sing 2\n",
       "11                                              Dune\n",
       "13                                          Free Guy\n",
       "14                             A Quiet Place Part II\n",
       "15                                           Encanto\n",
       "16                                           Cruella\n",
       "20                           Ghostbusters: Afterlife\n",
       "21                                 The Suicide Squad\n",
       "25                          Downton Abbey: A New Era\n",
       "26                                  K.G.F: Chapter 2\n",
       "39                                           Babylon\n",
       "43                                         The Whale\n",
       "47                      Puss in Boots: The Last Wish\n",
       "49                                     The Fabelmans\n",
       "50                                         Barbarian\n",
       "59                         Mrs. Harris Goes to Paris\n",
       "60                                               Tár\n",
       "61           The Unbearable Weight of Massive Talent\n",
       "62                                             Elvis\n",
       "71                           DC League of Super-Pets\n",
       "73                          Avatar: The Way of Water\n",
       "79                                               RRR\n",
       "83                           Where the Crawdads Sing\n",
       "84                 Everything Everywhere All at Once\n",
       "89                                          She Said\n",
       "91                                              Till\n",
       "93                                 Top Gun: Maverick\n",
       "97             Are You There God? It's Me, Margaret.\n",
       "98                                      The Covenant\n",
       "99                                        Talk to Me\n",
       "106                                          Missing\n",
       "107      Teenage Mutant Ninja Turtles: Mutant Mayhem\n",
       "116                                              Air\n",
       "117                                A Man Called Otto\n",
       "121                                 Sound of Freedom\n",
       "125          Dungeons & Dragons: Honor Among Thieves\n",
       "129                                        Elemental\n",
       "130                             John Wick: Chapter 4\n",
       "133    Mission: Impossible - Dead Reckoning Part One\n",
       "134                                      Oppenheimer\n",
       "135                               The Little Mermaid\n",
       "136                           The Wandering Earth II\n",
       "137              Spider-Man: Across the Spider-Verse\n",
       "139                   Guardians of the Galaxy Vol. 3\n",
       "140                                           Barbie\n",
       "141                      The Super Mario Bros. Movie\n",
       "Name: Title, dtype: object"
      ]
     },
     "execution_count": 44,
     "metadata": {},
     "output_type": "execute_result"
    }
   ],
   "source": [
    "Data[Data['Rating']>=7]['Title']"
   ]
  },
  {
   "cell_type": "code",
   "execution_count": 55,
   "id": "401500d7",
   "metadata": {},
   "outputs": [
    {
     "data": {
      "text/plain": [
       "Year\n",
       "2020    7.200000\n",
       "2021    6.785714\n",
       "2023    6.709302\n",
       "2022    6.630769\n",
       "Name: Rating, dtype: float64"
      ]
     },
     "execution_count": 55,
     "metadata": {},
     "output_type": "execute_result"
    }
   ],
   "source": [
    "Data.groupby('Year')['Rating'].mean().sort_values(ascending=False)"
   ]
  },
  {
   "cell_type": "code",
   "execution_count": 49,
   "id": "cc95404b",
   "metadata": {},
   "outputs": [
    {
     "data": {
      "text/plain": [
       "Index(['Title', 'Year', 'Genre', 'Director', 'Stars', 'Rating', 'Budget',\n",
       "       'Worldwide Gross', 'Profit'],\n",
       "      dtype='object')"
      ]
     },
     "execution_count": 49,
     "metadata": {},
     "output_type": "execute_result"
    }
   ],
   "source": [
    "Data.columns"
   ]
  },
  {
   "cell_type": "code",
   "execution_count": 59,
   "id": "14fbfed4",
   "metadata": {},
   "outputs": [
    {
     "data": {
      "text/plain": [
       "Stars\n",
       "Sam Worthington      1.970250e+09\n",
       "Tom Holland          1.004494e+09\n",
       "Margot Robbie        9.768090e+08\n",
       "Chris Pratt          8.962025e+08\n",
       "Steve Carell         8.596282e+08\n",
       "                         ...     \n",
       "Halle Berry         -8.270464e+07\n",
       "LaKeith Stanfield   -8.319265e+07\n",
       "Yash                -9.108761e+08\n",
       "N.T. Rama Rao Jr.   -3.333389e+09\n",
       "Amitabh Bachchan    -4.049835e+09\n",
       "Name: Profit, Length: 118, dtype: float64"
      ]
     },
     "execution_count": 59,
     "metadata": {},
     "output_type": "execute_result"
    }
   ],
   "source": [
    "Data.groupby('Stars')['Profit'].mean().sort_values(ascending=False)"
   ]
  },
  {
   "cell_type": "code",
   "execution_count": 61,
   "id": "c751b395",
   "metadata": {},
   "outputs": [
    {
     "data": {
      "text/plain": [
       "Director\n",
       "James Cameron      1.970250e+09\n",
       "Jon Watts          1.721847e+09\n",
       "Joseph Kosinski    1.325696e+09\n",
       "Aaron Horvath      1.256198e+09\n",
       "Greta Gerwig       9.768090e+08\n",
       "                       ...     \n",
       "Justin Simien     -8.319265e+07\n",
       "Frant Gwo         -1.532892e+08\n",
       "Prashanth Neel    -9.108761e+08\n",
       "S. Rajamouli      -3.333389e+09\n",
       "Ayan Mukerji      -4.049835e+09\n",
       "Name: Profit, Length: 128, dtype: float64"
      ]
     },
     "execution_count": 61,
     "metadata": {},
     "output_type": "execute_result"
    }
   ],
   "source": [
    "Data.groupby('Director')['Profit'].mean().sort_values(ascending=False)"
   ]
  },
  {
   "cell_type": "code",
   "execution_count": 73,
   "id": "bc453c08",
   "metadata": {},
   "outputs": [
    {
     "data": {
      "text/plain": [
       "Index(['Title', 'Year', 'Genre', 'Director', 'Stars', 'Rating', 'Budget',\n",
       "       'Worldwide Gross', 'Profit'],\n",
       "      dtype='object')"
      ]
     },
     "execution_count": 73,
     "metadata": {},
     "output_type": "execute_result"
    }
   ],
   "source": [
    "Data.columns"
   ]
  },
  {
   "cell_type": "code",
   "execution_count": 76,
   "id": "627c4f2f",
   "metadata": {},
   "outputs": [
    {
     "data": {
      "text/plain": [
       "Text(0.5, 1.0, 'Profit By Year')"
      ]
     },
     "execution_count": 76,
     "metadata": {},
     "output_type": "execute_result"
    },
    {
     "data": {
      "image/png": "[encoded data removed]",
      "text/plain": [
       "<Figure size 500x500 with 1 Axes>"
      ]
     },
     "metadata": {},
     "output_type": "display_data"
    }
   ],
   "source": [
    "sns.catplot(x='Year',y='Profit',data=Data,kind='bar')\n",
    "plt.title(\"Profit By Year\")"
   ]
  },
  {
   "cell_type": "code",
   "execution_count": 82,
   "id": "c5e0d495",
   "metadata": {},
   "outputs": [
    {
     "data": {
      "text/plain": [
       "Text(0.5, 1.0, 'Ratings by year')"
      ]
     },
     "execution_count": 82,
     "metadata": {},
     "output_type": "execute_result"
    },
    {
     "data": {
      "image/png": "[encoded data removed]",
      "text/plain": [
       "<Figure size 640x480 with 1 Axes>"
      ]
     },
     "metadata": {},
     "output_type": "display_data"
    }
   ],
   "source": [
    "sns.barplot(x='Year',y='Rating',data = Data)\n",
    "plt.title(\"Ratings by year\")"
   ]
  },
  {
   "cell_type": "code",
   "execution_count": 83,
   "id": "a0d38b5f",
   "metadata": {},
   "outputs": [
    {
     "data": {
      "text/plain": [
       "Stars\n",
       "Sam Worthington       2.320250e+09\n",
       "Tom Holland           1.164494e+09\n",
       "Margot Robbie         1.076809e+09\n",
       "Chris Pratt           1.067869e+09\n",
       "Tom Cruise            9.977611e+08\n",
       "                          ...     \n",
       "Joaquin Phoenix       1.148010e+07\n",
       "Danielle Deadwyler    1.134703e+07\n",
       "Anne Hathaway         6.524250e+06\n",
       "Khris Davis           6.031202e+06\n",
       "Viggo Mortensen       4.551566e+06\n",
       "Name: Worldwide Gross, Length: 118, dtype: float64"
      ]
     },
     "execution_count": 83,
     "metadata": {},
     "output_type": "execute_result"
    }
   ],
   "source": [
    "Data.groupby('Stars')['Worldwide Gross'].mean().sort_values(ascending=False)"
   ]
  },
  {
   "cell_type": "code",
   "execution_count": 85,
   "id": "e12c4d56",
   "metadata": {},
   "outputs": [
    {
     "data": {
      "text/plain": [
       "Text(0.5, 1.0, 'Revenue by year')"
      ]
     },
     "execution_count": 85,
     "metadata": {},
     "output_type": "execute_result"
    },
    {
     "data": {
      "image/png": "[encoded data removed]",
      "text/plain": [
       "<Figure size 640x480 with 1 Axes>"
      ]
     },
     "metadata": {},
     "output_type": "display_data"
    }
   ],
   "source": [
    "sns.barplot(x='Year',y='Worldwide Gross',data = Data)\n",
    "plt.title(\"Revenue by year\")"
   ]
  },
  {
   "cell_type": "code",
   "execution_count": 87,
   "id": "f01f51b4",
   "metadata": {},
   "outputs": [
    {
     "data": {
      "text/plain": [
       "Director\n",
       "Keith Thomas          4.6\n",
       "Gordon Green          5.0\n",
       "Roland Emmerich       5.1\n",
       "Justin Lin            5.2\n",
       "Daniel Espinosa       5.2\n",
       "                     ... \n",
       "Jon Watts             8.2\n",
       "Prashanth Neel        8.3\n",
       "Joseph Kosinski       8.3\n",
       "Christopher Nolan     8.6\n",
       "Joaquim Dos Santos    8.8\n",
       "Name: Rating, Length: 128, dtype: float64"
      ]
     },
     "execution_count": 87,
     "metadata": {},
     "output_type": "execute_result"
    }
   ],
   "source": [
    "Data.groupby('Director')['Rating'].mean().sort_values()"
   ]
  },
  {
   "cell_type": "code",
   "execution_count": 97,
   "id": "0de2e8ec",
   "metadata": {},
   "outputs": [],
   "source": [
    "Top20_Rated = Data.nlargest(20,'Rating')[['Title','Rating','Year']]\\\n",
    ".set_index('Title')"
   ]
  },
  {
   "cell_type": "code",
   "execution_count": 99,
   "id": "1922c146",
   "metadata": {},
   "outputs": [
    {
     "data": {
      "text/html": [
       "<div>\n",
       "<style scoped>\n",
       "    .dataframe tbody tr th:only-of-type {\n",
       "        vertical-align: middle;\n",
       "    }\n",
       "\n",
       "    .dataframe tbody tr th {\n",
       "        vertical-align: top;\n",
       "    }\n",
       "\n",
       "    .dataframe thead th {\n",
       "        text-align: right;\n",
       "    }\n",
       "</style>\n",
       "<table border=\"1\" class=\"dataframe\">\n",
       "  <thead>\n",
       "    <tr style=\"text-align: right;\">\n",
       "      <th></th>\n",
       "      <th>Rating</th>\n",
       "      <th>Year</th>\n",
       "    </tr>\n",
       "    <tr>\n",
       "      <th>Title</th>\n",
       "      <th></th>\n",
       "      <th></th>\n",
       "    </tr>\n",
       "  </thead>\n",
       "  <tbody>\n",
       "    <tr>\n",
       "      <th>Spider-Man: Across the Spider-Verse</th>\n",
       "      <td>8.8</td>\n",
       "      <td>2023</td>\n",
       "    </tr>\n",
       "    <tr>\n",
       "      <th>Oppenheimer</th>\n",
       "      <td>8.6</td>\n",
       "      <td>2023</td>\n",
       "    </tr>\n",
       "    <tr>\n",
       "      <th>K.G.F: Chapter 2</th>\n",
       "      <td>8.3</td>\n",
       "      <td>2022</td>\n",
       "    </tr>\n",
       "    <tr>\n",
       "      <th>Top Gun: Maverick</th>\n",
       "      <td>8.3</td>\n",
       "      <td>2022</td>\n",
       "    </tr>\n",
       "    <tr>\n",
       "      <th>Spider-Man: No Way Home</th>\n",
       "      <td>8.2</td>\n",
       "      <td>2021</td>\n",
       "    </tr>\n",
       "    <tr>\n",
       "      <th>Dune</th>\n",
       "      <td>8.0</td>\n",
       "      <td>2021</td>\n",
       "    </tr>\n",
       "    <tr>\n",
       "      <th>Mission: Impossible - Dead Reckoning Part One</th>\n",
       "      <td>8.0</td>\n",
       "      <td>2023</td>\n",
       "    </tr>\n",
       "    <tr>\n",
       "      <th>Guardians of the Galaxy Vol. 3</th>\n",
       "      <td>8.0</td>\n",
       "      <td>2023</td>\n",
       "    </tr>\n",
       "    <tr>\n",
       "      <th>Puss in Boots: The Last Wish</th>\n",
       "      <td>7.9</td>\n",
       "      <td>2022</td>\n",
       "    </tr>\n",
       "    <tr>\n",
       "      <th>RRR</th>\n",
       "      <td>7.8</td>\n",
       "      <td>2022</td>\n",
       "    </tr>\n",
       "    <tr>\n",
       "      <th>Everything Everywhere All at Once</th>\n",
       "      <td>7.8</td>\n",
       "      <td>2022</td>\n",
       "    </tr>\n",
       "    <tr>\n",
       "      <th>Sound of Freedom</th>\n",
       "      <td>7.8</td>\n",
       "      <td>2023</td>\n",
       "    </tr>\n",
       "    <tr>\n",
       "      <th>John Wick: Chapter 4</th>\n",
       "      <td>7.8</td>\n",
       "      <td>2023</td>\n",
       "    </tr>\n",
       "    <tr>\n",
       "      <th>The Whale</th>\n",
       "      <td>7.7</td>\n",
       "      <td>2022</td>\n",
       "    </tr>\n",
       "    <tr>\n",
       "      <th>The Fabelmans</th>\n",
       "      <td>7.6</td>\n",
       "      <td>2022</td>\n",
       "    </tr>\n",
       "    <tr>\n",
       "      <th>Avatar: The Way of Water</th>\n",
       "      <td>7.6</td>\n",
       "      <td>2022</td>\n",
       "    </tr>\n",
       "    <tr>\n",
       "      <th>Teenage Mutant Ninja Turtles: Mutant Mayhem</th>\n",
       "      <td>7.6</td>\n",
       "      <td>2023</td>\n",
       "    </tr>\n",
       "    <tr>\n",
       "      <th>Tár</th>\n",
       "      <td>7.5</td>\n",
       "      <td>2022</td>\n",
       "    </tr>\n",
       "    <tr>\n",
       "      <th>The Covenant</th>\n",
       "      <td>7.5</td>\n",
       "      <td>2023</td>\n",
       "    </tr>\n",
       "    <tr>\n",
       "      <th>Talk to Me</th>\n",
       "      <td>7.5</td>\n",
       "      <td>2022</td>\n",
       "    </tr>\n",
       "  </tbody>\n",
       "</table>\n",
       "</div>"
      ],
      "text/plain": [
       "                                               Rating  Year\n",
       "Title                                                      \n",
       "Spider-Man: Across the Spider-Verse               8.8  2023\n",
       "Oppenheimer                                       8.6  2023\n",
       "K.G.F: Chapter 2                                  8.3  2022\n",
       "Top Gun: Maverick                                 8.3  2022\n",
       "Spider-Man: No Way Home                           8.2  2021\n",
       "Dune                                              8.0  2021\n",
       "Mission: Impossible - Dead Reckoning Part One     8.0  2023\n",
       "Guardians of the Galaxy Vol. 3                    8.0  2023\n",
       "Puss in Boots: The Last Wish                      7.9  2022\n",
       "RRR                                               7.8  2022\n",
       "Everything Everywhere All at Once                 7.8  2022\n",
       "Sound of Freedom                                  7.8  2023\n",
       "John Wick: Chapter 4                              7.8  2023\n",
       "The Whale                                         7.7  2022\n",
       "The Fabelmans                                     7.6  2022\n",
       "Avatar: The Way of Water                          7.6  2022\n",
       "Teenage Mutant Ninja Turtles: Mutant Mayhem       7.6  2023\n",
       "Tár                                               7.5  2022\n",
       "The Covenant                                      7.5  2023\n",
       "Talk to Me                                        7.5  2022"
      ]
     },
     "execution_count": 99,
     "metadata": {},
     "output_type": "execute_result"
    }
   ],
   "source": [
    "Top20_Rated"
   ]
  },
  {
   "cell_type": "code",
   "execution_count": 100,
   "id": "8c801c4b",
   "metadata": {},
   "outputs": [
    {
     "data": {
      "text/plain": [
       "Text(0.5, 1.0, 'Top 20 highest Rated')"
      ]
     },
     "execution_count": 100,
     "metadata": {},
     "output_type": "execute_result"
    },
    {
     "data": {
      "image/png": "[encoded data removed]",
      "text/plain": [
       "<Figure size 640x480 with 1 Axes>"
      ]
     },
     "metadata": {},
     "output_type": "display_data"
    }
   ],
   "source": [
    "sns.barplot(x='Rating',y=Top20_Rated.index,data=Top20_Rated)\n",
    "plt.title(\"Top 20 highest Rated\")"
   ]
  },
  {
   "cell_type": "code",
   "execution_count": 101,
   "id": "d30eea18",
   "metadata": {},
   "outputs": [
    {
     "data": {
      "text/plain": [
       "Index(['Title', 'Year', 'Genre', 'Director', 'Stars', 'Rating', 'Budget',\n",
       "       'Worldwide Gross', 'Profit'],\n",
       "      dtype='object')"
      ]
     },
     "execution_count": 101,
     "metadata": {},
     "output_type": "execute_result"
    }
   ],
   "source": [
    "Data.columns"
   ]
  },
  {
   "cell_type": "code",
   "execution_count": 102,
   "id": "143b7264",
   "metadata": {},
   "outputs": [
    {
     "data": {
      "text/plain": [
       "2022    65\n",
       "2023    43\n",
       "2021    21\n",
       "2020     1\n",
       "Name: Year, dtype: int64"
      ]
     },
     "execution_count": 102,
     "metadata": {},
     "output_type": "execute_result"
    }
   ],
   "source": [
    "Data['Year'].value_counts()"
   ]
  },
  {
   "cell_type": "code",
   "execution_count": 104,
   "id": "85450b8d",
   "metadata": {},
   "outputs": [
    {
     "data": {
      "text/plain": [
       "Text(0.5, 1.0, 'Numbe of movies per year')"
      ]
     },
     "execution_count": 104,
     "metadata": {},
     "output_type": "execute_result"
    },
    {
     "data": {
      "image/png": "[encoded data removed]",
      "text/plain": [
       "<Figure size 640x480 with 1 Axes>"
      ]
     },
     "metadata": {},
     "output_type": "display_data"
    }
   ],
   "source": [
    "sns.countplot(x='Year',data=Data)\n",
    "plt.title(\"Numbe of movies per year\")"
   ]
  },
  {
   "cell_type": "code",
   "execution_count": 114,
   "id": "304f592d",
   "metadata": {},
   "outputs": [],
   "source": [
    "Highest_Revenue = Data[Data['Worldwide Gross'].max()==Data['Worldwide Gross']]['Title']"
   ]
  },
  {
   "cell_type": "code",
   "execution_count": 115,
   "id": "efbd9ea4",
   "metadata": {},
   "outputs": [
    {
     "data": {
      "text/plain": [
       "73    Avatar: The Way of Water\n",
       "Name: Title, dtype: object"
      ]
     },
     "execution_count": 115,
     "metadata": {},
     "output_type": "execute_result"
    }
   ],
   "source": [
    "Highest_Revenue"
   ]
  },
  {
   "cell_type": "code",
   "execution_count": 121,
   "id": "1dacdfad",
   "metadata": {},
   "outputs": [],
   "source": [
    "Top10 = Data.nlargest(10,'Rating')[['Title','Rating','Director','Stars']]\\\n",
    ".set_index('Director')"
   ]
  },
  {
   "cell_type": "code",
   "execution_count": 122,
   "id": "5c27c2f9",
   "metadata": {},
   "outputs": [
    {
     "data": {
      "text/html": [
       "<div>\n",
       "<style scoped>\n",
       "    .dataframe tbody tr th:only-of-type {\n",
       "        vertical-align: middle;\n",
       "    }\n",
       "\n",
       "    .dataframe tbody tr th {\n",
       "        vertical-align: top;\n",
       "    }\n",
       "\n",
       "    .dataframe thead th {\n",
       "        text-align: right;\n",
       "    }\n",
       "</style>\n",
       "<table border=\"1\" class=\"dataframe\">\n",
       "  <thead>\n",
       "    <tr style=\"text-align: right;\">\n",
       "      <th></th>\n",
       "      <th>Title</th>\n",
       "      <th>Rating</th>\n",
       "      <th>Stars</th>\n",
       "    </tr>\n",
       "    <tr>\n",
       "      <th>Director</th>\n",
       "      <th></th>\n",
       "      <th></th>\n",
       "      <th></th>\n",
       "    </tr>\n",
       "  </thead>\n",
       "  <tbody>\n",
       "    <tr>\n",
       "      <th>Joaquim Dos Santos</th>\n",
       "      <td>Spider-Man: Across the Spider-Verse</td>\n",
       "      <td>8.8</td>\n",
       "      <td>Shameik Moore</td>\n",
       "    </tr>\n",
       "    <tr>\n",
       "      <th>Christopher Nolan</th>\n",
       "      <td>Oppenheimer</td>\n",
       "      <td>8.6</td>\n",
       "      <td>Cillian Murphy</td>\n",
       "    </tr>\n",
       "    <tr>\n",
       "      <th>Prashanth Neel</th>\n",
       "      <td>K.G.F: Chapter 2</td>\n",
       "      <td>8.3</td>\n",
       "      <td>Yash</td>\n",
       "    </tr>\n",
       "    <tr>\n",
       "      <th>Joseph Kosinski</th>\n",
       "      <td>Top Gun: Maverick</td>\n",
       "      <td>8.3</td>\n",
       "      <td>Tom Cruise</td>\n",
       "    </tr>\n",
       "    <tr>\n",
       "      <th>Jon Watts</th>\n",
       "      <td>Spider-Man: No Way Home</td>\n",
       "      <td>8.2</td>\n",
       "      <td>Tom Holland</td>\n",
       "    </tr>\n",
       "    <tr>\n",
       "      <th>Denis Villeneuve</th>\n",
       "      <td>Dune</td>\n",
       "      <td>8.0</td>\n",
       "      <td>Timothée Chalamet</td>\n",
       "    </tr>\n",
       "    <tr>\n",
       "      <th>Christopher McQuarrie</th>\n",
       "      <td>Mission: Impossible - Dead Reckoning Part One</td>\n",
       "      <td>8.0</td>\n",
       "      <td>Tom Cruise</td>\n",
       "    </tr>\n",
       "    <tr>\n",
       "      <th>James Gunn</th>\n",
       "      <td>Guardians of the Galaxy Vol. 3</td>\n",
       "      <td>8.0</td>\n",
       "      <td>Chris Pratt</td>\n",
       "    </tr>\n",
       "    <tr>\n",
       "      <th>Januel Mercado</th>\n",
       "      <td>Puss in Boots: The Last Wish</td>\n",
       "      <td>7.9</td>\n",
       "      <td>Antonio Banderas</td>\n",
       "    </tr>\n",
       "    <tr>\n",
       "      <th>S. Rajamouli</th>\n",
       "      <td>RRR</td>\n",
       "      <td>7.8</td>\n",
       "      <td>N.T. Rama Rao Jr.</td>\n",
       "    </tr>\n",
       "  </tbody>\n",
       "</table>\n",
       "</div>"
      ],
      "text/plain": [
       "                                                               Title  Rating  \\\n",
       "Director                                                                       \n",
       "Joaquim Dos Santos               Spider-Man: Across the Spider-Verse     8.8   \n",
       "Christopher Nolan                                        Oppenheimer     8.6   \n",
       "Prashanth Neel                                      K.G.F: Chapter 2     8.3   \n",
       "Joseph Kosinski                                    Top Gun: Maverick     8.3   \n",
       "Jon Watts                                    Spider-Man: No Way Home     8.2   \n",
       "Denis Villeneuve                                                Dune     8.0   \n",
       "Christopher McQuarrie  Mission: Impossible - Dead Reckoning Part One     8.0   \n",
       "James Gunn                            Guardians of the Galaxy Vol. 3     8.0   \n",
       "Januel Mercado                          Puss in Boots: The Last Wish     7.9   \n",
       "S. Rajamouli                                                     RRR     7.8   \n",
       "\n",
       "                                   Stars  \n",
       "Director                                  \n",
       "Joaquim Dos Santos         Shameik Moore  \n",
       "Christopher Nolan         Cillian Murphy  \n",
       "Prashanth Neel                      Yash  \n",
       "Joseph Kosinski               Tom Cruise  \n",
       "Jon Watts                    Tom Holland  \n",
       "Denis Villeneuve       Timothée Chalamet  \n",
       "Christopher McQuarrie         Tom Cruise  \n",
       "James Gunn                   Chris Pratt  \n",
       "Januel Mercado          Antonio Banderas  \n",
       "S. Rajamouli           N.T. Rama Rao Jr.  "
      ]
     },
     "execution_count": 122,
     "metadata": {},
     "output_type": "execute_result"
    }
   ],
   "source": [
    "Top10"
   ]
  },
  {
   "cell_type": "code",
   "execution_count": 126,
   "id": "6930c7b4",
   "metadata": {},
   "outputs": [
    {
     "data": {
      "text/plain": [
       "<matplotlib.legend.Legend at 0x23ab15b3490>"
      ]
     },
     "execution_count": 126,
     "metadata": {},
     "output_type": "execute_result"
    },
    {
     "data": {
      "image/png": "[encoded data removed]",
      "text/plain": [
       "<Figure size 640x480 with 1 Axes>"
      ]
     },
     "metadata": {},
     "output_type": "display_data"
    }
   ],
   "source": [
    "sns.barplot(x='Rating',y=Top10.index,data=Top10,hue='Title',dodge=False)\n",
    "plt.legend(bbox_to_anchor=(1.05,1),loc=2)"
   ]
  },
  {
   "cell_type": "code",
   "execution_count": 146,
   "id": "f3638d3e",
   "metadata": {},
   "outputs": [],
   "source": [
    "BO_10 =Data.nlargest(10,'Worldwide Gross')[['Title','Worldwide Gross','Rating']]"
   ]
  },
  {
   "cell_type": "code",
   "execution_count": 147,
   "id": "088c40e4",
   "metadata": {},
   "outputs": [],
   "source": [
    "BO_10=BO_10.set_index('Title')"
   ]
  },
  {
   "cell_type": "code",
   "execution_count": 145,
   "id": "bac6e9cd",
   "metadata": {},
   "outputs": [
    {
     "data": {
      "text/html": [
       "<div>\n",
       "<style scoped>\n",
       "    .dataframe tbody tr th:only-of-type {\n",
       "        vertical-align: middle;\n",
       "    }\n",
       "\n",
       "    .dataframe tbody tr th {\n",
       "        vertical-align: top;\n",
       "    }\n",
       "\n",
       "    .dataframe thead th {\n",
       "        text-align: right;\n",
       "    }\n",
       "</style>\n",
       "<table border=\"1\" class=\"dataframe\">\n",
       "  <thead>\n",
       "    <tr style=\"text-align: right;\">\n",
       "      <th></th>\n",
       "      <th>Worldwide Gross</th>\n",
       "      <th>Rating</th>\n",
       "    </tr>\n",
       "    <tr>\n",
       "      <th>Title</th>\n",
       "      <th></th>\n",
       "      <th></th>\n",
       "    </tr>\n",
       "  </thead>\n",
       "  <tbody>\n",
       "    <tr>\n",
       "      <th>Avatar: The Way of Water</th>\n",
       "      <td>2.320250e+09</td>\n",
       "      <td>7.6</td>\n",
       "    </tr>\n",
       "    <tr>\n",
       "      <th>Spider-Man: No Way Home</th>\n",
       "      <td>1.921847e+09</td>\n",
       "      <td>8.2</td>\n",
       "    </tr>\n",
       "    <tr>\n",
       "      <th>Top Gun: Maverick</th>\n",
       "      <td>1.495696e+09</td>\n",
       "      <td>8.3</td>\n",
       "    </tr>\n",
       "    <tr>\n",
       "      <th>The Super Mario Bros. Movie</th>\n",
       "      <td>1.356198e+09</td>\n",
       "      <td>7.1</td>\n",
       "    </tr>\n",
       "    <tr>\n",
       "      <th>Barbie</th>\n",
       "      <td>1.076809e+09</td>\n",
       "      <td>7.4</td>\n",
       "    </tr>\n",
       "    <tr>\n",
       "      <th>Jurassic World Dominion</th>\n",
       "      <td>1.001978e+09</td>\n",
       "      <td>5.6</td>\n",
       "    </tr>\n",
       "    <tr>\n",
       "      <th>Doctor Strange in the Multiverse of Madness</th>\n",
       "      <td>9.557758e+08</td>\n",
       "      <td>6.9</td>\n",
       "    </tr>\n",
       "    <tr>\n",
       "      <th>Minions: The Rise of Gru</th>\n",
       "      <td>9.396282e+08</td>\n",
       "      <td>6.5</td>\n",
       "    </tr>\n",
       "    <tr>\n",
       "      <th>The Battle at Lake Changjin</th>\n",
       "      <td>9.025485e+08</td>\n",
       "      <td>5.5</td>\n",
       "    </tr>\n",
       "    <tr>\n",
       "      <th>Black Panther: Wakanda Forever</th>\n",
       "      <td>8.592088e+08</td>\n",
       "      <td>6.7</td>\n",
       "    </tr>\n",
       "  </tbody>\n",
       "</table>\n",
       "</div>"
      ],
      "text/plain": [
       "                                             Worldwide Gross  Rating\n",
       "Title                                                               \n",
       "Avatar: The Way of Water                        2.320250e+09     7.6\n",
       "Spider-Man: No Way Home                         1.921847e+09     8.2\n",
       "Top Gun: Maverick                               1.495696e+09     8.3\n",
       "The Super Mario Bros. Movie                     1.356198e+09     7.1\n",
       "Barbie                                          1.076809e+09     7.4\n",
       "Jurassic World Dominion                         1.001978e+09     5.6\n",
       "Doctor Strange in the Multiverse of Madness     9.557758e+08     6.9\n",
       "Minions: The Rise of Gru                        9.396282e+08     6.5\n",
       "The Battle at Lake Changjin                     9.025485e+08     5.5\n",
       "Black Panther: Wakanda Forever                  8.592088e+08     6.7"
      ]
     },
     "execution_count": 145,
     "metadata": {},
     "output_type": "execute_result"
    }
   ],
   "source": [
    "BO_10"
   ]
  },
  {
   "cell_type": "code",
   "execution_count": 151,
   "id": "3d59fbc7",
   "metadata": {},
   "outputs": [
    {
     "data": {
      "image/png": "[encoded data removed]",
      "text/plain": [
       "<Figure size 640x480 with 1 Axes>"
      ]
     },
     "metadata": {},
     "output_type": "display_data"
    }
   ],
   "source": [
    "sns.barplot(x='Worldwide Gross',y=BO_10.index,data=BO_10)\n",
    "plt.title(\"Top 10 Highest Collected Movies\")\n",
    "plt.show()"
   ]
  },
  {
   "cell_type": "code",
   "execution_count": null,
   "id": "515366b0",
   "metadata": {},
   "outputs": [],
   "source": [
    "# Does Rating affect Profit\n"
   ]
  },
  {
   "cell_type": "code",
   "execution_count": 152,
   "id": "66eb2ba1",
   "metadata": {},
   "outputs": [
    {
     "data": {
      "text/plain": [
       "Index(['Title', 'Year', 'Genre', 'Director', 'Stars', 'Rating', 'Budget',\n",
       "       'Worldwide Gross', 'Profit'],\n",
       "      dtype='object')"
      ]
     },
     "execution_count": 152,
     "metadata": {},
     "output_type": "execute_result"
    }
   ],
   "source": [
    "Data.columns"
   ]
  },
  {
   "cell_type": "code",
   "execution_count": 155,
   "id": "d420fd61",
   "metadata": {},
   "outputs": [
    {
     "data": {
      "text/plain": [
       "Text(0.5, 1.0, 'Rating vs Revenue')"
      ]
     },
     "execution_count": 155,
     "metadata": {},
     "output_type": "execute_result"
    },
    {
     "data": {
      "image/png": "[encoded data removed]",
      "text/plain": [
       "<Figure size 640x480 with 1 Axes>"
      ]
     },
     "metadata": {},
     "output_type": "display_data"
    }
   ],
   "source": [
    "sns.scatterplot(x='Rating',y='Profit',data=Data)\n",
    "plt.title(\"Rating vs Revenue\")"
   ]
  },
  {
   "cell_type": "code",
   "execution_count": null,
   "id": "8bd1e3df",
   "metadata": {},
   "outputs": [],
   "source": [
    "# Stars Highest Collected Films"
   ]
  },
  {
   "cell_type": "code",
   "execution_count": 157,
   "id": "2815d56d",
   "metadata": {},
   "outputs": [
    {
     "data": {
      "text/plain": [
       "Index(['Title', 'Year', 'Genre', 'Director', 'Stars', 'Rating', 'Budget',\n",
       "       'Worldwide Gross', 'Profit'],\n",
       "      dtype='object')"
      ]
     },
     "execution_count": 157,
     "metadata": {},
     "output_type": "execute_result"
    }
   ],
   "source": [
    "Data.columns"
   ]
  },
  {
   "cell_type": "code",
   "execution_count": 168,
   "id": "d6bc51ed",
   "metadata": {},
   "outputs": [],
   "source": [
    "Top10_Directors = Data.nlargest(10,'Profit')[['Rating','Director','Profit']]"
   ]
  },
  {
   "cell_type": "code",
   "execution_count": 169,
   "id": "92faf639",
   "metadata": {},
   "outputs": [
    {
     "data": {
      "text/html": [
       "<div>\n",
       "<style scoped>\n",
       "    .dataframe tbody tr th:only-of-type {\n",
       "        vertical-align: middle;\n",
       "    }\n",
       "\n",
       "    .dataframe tbody tr th {\n",
       "        vertical-align: top;\n",
       "    }\n",
       "\n",
       "    .dataframe thead th {\n",
       "        text-align: right;\n",
       "    }\n",
       "</style>\n",
       "<table border=\"1\" class=\"dataframe\">\n",
       "  <thead>\n",
       "    <tr style=\"text-align: right;\">\n",
       "      <th></th>\n",
       "      <th>Rating</th>\n",
       "      <th>Director</th>\n",
       "      <th>Profit</th>\n",
       "    </tr>\n",
       "  </thead>\n",
       "  <tbody>\n",
       "    <tr>\n",
       "      <th>73</th>\n",
       "      <td>7.6</td>\n",
       "      <td>James Cameron</td>\n",
       "      <td>1.970250e+09</td>\n",
       "    </tr>\n",
       "    <tr>\n",
       "      <th>0</th>\n",
       "      <td>8.2</td>\n",
       "      <td>Jon Watts</td>\n",
       "      <td>1.721847e+09</td>\n",
       "    </tr>\n",
       "    <tr>\n",
       "      <th>93</th>\n",
       "      <td>8.3</td>\n",
       "      <td>Joseph Kosinski</td>\n",
       "      <td>1.325696e+09</td>\n",
       "    </tr>\n",
       "    <tr>\n",
       "      <th>141</th>\n",
       "      <td>7.1</td>\n",
       "      <td>Aaron Horvath</td>\n",
       "      <td>1.256198e+09</td>\n",
       "    </tr>\n",
       "    <tr>\n",
       "      <th>140</th>\n",
       "      <td>7.4</td>\n",
       "      <td>Greta Gerwig</td>\n",
       "      <td>9.768090e+08</td>\n",
       "    </tr>\n",
       "    <tr>\n",
       "      <th>24</th>\n",
       "      <td>6.5</td>\n",
       "      <td>Jonathan del Val</td>\n",
       "      <td>8.596282e+08</td>\n",
       "    </tr>\n",
       "    <tr>\n",
       "      <th>94</th>\n",
       "      <td>5.6</td>\n",
       "      <td>Colin Trevorrow</td>\n",
       "      <td>8.369781e+08</td>\n",
       "    </tr>\n",
       "    <tr>\n",
       "      <th>23</th>\n",
       "      <td>6.9</td>\n",
       "      <td>Sam Raimi</td>\n",
       "      <td>7.557758e+08</td>\n",
       "    </tr>\n",
       "    <tr>\n",
       "      <th>1</th>\n",
       "      <td>5.5</td>\n",
       "      <td>Hark Tsui</td>\n",
       "      <td>7.025485e+08</td>\n",
       "    </tr>\n",
       "    <tr>\n",
       "      <th>29</th>\n",
       "      <td>6.7</td>\n",
       "      <td>Ryan Coogler</td>\n",
       "      <td>6.092088e+08</td>\n",
       "    </tr>\n",
       "  </tbody>\n",
       "</table>\n",
       "</div>"
      ],
      "text/plain": [
       "     Rating          Director        Profit\n",
       "73      7.6     James Cameron  1.970250e+09\n",
       "0       8.2         Jon Watts  1.721847e+09\n",
       "93      8.3   Joseph Kosinski  1.325696e+09\n",
       "141     7.1     Aaron Horvath  1.256198e+09\n",
       "140     7.4      Greta Gerwig  9.768090e+08\n",
       "24      6.5  Jonathan del Val  8.596282e+08\n",
       "94      5.6   Colin Trevorrow  8.369781e+08\n",
       "23      6.9         Sam Raimi  7.557758e+08\n",
       "1       5.5         Hark Tsui  7.025485e+08\n",
       "29      6.7      Ryan Coogler  6.092088e+08"
      ]
     },
     "execution_count": 169,
     "metadata": {},
     "output_type": "execute_result"
    }
   ],
   "source": [
    "Top10_Directors"
   ]
  },
  {
   "cell_type": "code",
   "execution_count": 175,
   "id": "827ee926",
   "metadata": {},
   "outputs": [
    {
     "data": {
      "image/png": "[encoded data removed]",
      "text/plain": [
       "<Figure size 640x480 with 1 Axes>"
      ]
     },
     "metadata": {},
     "output_type": "display_data"
    }
   ],
   "source": [
    "sns.barplot(x='Rating',y='Profit',data=Top10_Directors,hue='Director')\n",
    "plt.legend(bbox_to_anchor=(1.05,1),loc=2)\n",
    "plt.title(\"Directors Highest\")\n",
    "plt.show()"
   ]
  },
  {
   "cell_type": "code",
   "execution_count": null,
   "id": "24b32496",
   "metadata": {},
   "outputs": [],
   "source": []
  },
  {
   "cell_type": "code",
   "execution_count": null,
   "id": "f8d0f681",
   "metadata": {},
   "outputs": [],
   "source": []
  },
  {
   "cell_type": "code",
   "execution_count": null,
   "id": "9033a86d",
   "metadata": {},
   "outputs": [],
   "source": []
  },
  {
   "cell_type": "code",
   "execution_count": null,
   "id": "7a679f1e",
   "metadata": {},
   "outputs": [],
   "source": []
  }
 ],
 "metadata": {
  "kernelspec": {
   "display_name": "Python 3 (ipykernel)",
   "language": "python",
   "name": "python3"
  },
  "language_info": {
   "codemirror_mode": {
    "name": "ipython",
    "version": 3
   },
   "file_extension": ".py",
   "mimetype": "text/x-python",
   "name": "python",
   "nbconvert_exporter": "python",
   "pygments_lexer": "ipython3",
   "version": "3.10.9"
  }
 },
 "nbformat": 4,
 "nbformat_minor": 5
}
